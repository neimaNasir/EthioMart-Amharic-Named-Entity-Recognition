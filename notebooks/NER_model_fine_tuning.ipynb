{
 "cells": [
  {
   "cell_type": "code",
   "execution_count": 7,
   "metadata": {},
   "outputs": [],
   "source": [
    "import spacy\n",
    "import json\n",
    "import pandas as pd\n",
    "import os\n",
    "from transformers import BertTokenizerFast, BertForTokenClassification, Trainer, TrainingArguments\n",
    "from torch.utils.data import Dataset\n",
    "\n"
   ]
  },
  {
   "cell_type": "markdown",
   "metadata": {},
   "source": [
    "**Function to load CoNLL data**"
   ]
  },
  {
   "cell_type": "code",
   "execution_count": 2,
   "metadata": {},
   "outputs": [
    {
     "name": "stdout",
     "output_type": "stream",
     "text": [
      "Skipping malformed line: O\n",
      "Skipping malformed line: O\n",
      "Skipping malformed line: O\n",
      "Example sentence: ['mama', 'bag', 'ኦሪጅናል', 'ማቴሪያል', 'በሳይዙ', 'ትልቅ', '1600', 'ብር', 'Free', 'delivery', '0909003864', '0905707448', 'ሊንኩን', 'በመጫን', 'ቴሌግራማችንን', 'ይቀላቀሉhttpstmesinayelj', 'እቃ', 'ለማዘዝ', 'ከስር', 'ያለውን', 'ሊንኮች', 'በመጫን', 'ማዘዝ', 'ትችላላቹ', 'sinasinaye', 'httpstmesinayelj2', 'አድራሻ', '1ቁጥር1', 'ገርጂ', 'ኢምፔሪያል', 'ከሳሚ', 'ህንፃ', 'ጎን', 'አልፎዝ', 'ፕላዛ', 'ግራውንድ', 'ላይ', 'እንደገቡ', 'ያገኙናል', '2ቁጥር2', '4ኪሎ', 'ቅድስት', 'ስላሴ', 'ህንፃ', 'ማለትም', 'ከብልፅግና', 'ዋናፅፈት', 'ቤት', 'ህንፃ', 'በስተ', 'ቀኝ', 'ባለው', 'አስፓልት', '20ሜትር', 'ዝቅ', 'እንዳሉ', 'ሀበሻ', 'ኮፊ', 'የሚገኝበት', 'ቀይ', 'ሸክላ', 'ህንፃ', '2ተኛ', 'ፎቅ', 'ላይ', 'ያገኙናል', '3ቁጥር3', 'ብስራተ', 'ገብርኤል', 'ላፍቶ', 'ሞል', 'መግቢያው', 'ፊት', 'ለፊት', 'የሚገኘው', 'የብስራተ', 'ገብርኤል', 'ቤተ', 'ክርስቲያን', 'ህንፃ', 'አንደኛ', 'ፎቅ', 'ላይ', 'ደረጃ', 'እንደወጣቹ', 'በስተግራ', 'በኩል', 'ሱቅ', 'ቁጥር', 'FF09', 'ክቡራን', 'ደምበኞቻችን', 'ገርጂ', 'አልፎዝ', 'ፕላዛ', 'ላይ', 'አራት', 'ኪሎ', 'ቅድስት', 'ስላሴ', 'እንዲሁም', 'ብስራተ', 'ገብሬል', 'ያሉት', 'ሱቆቻችን', 'ሲመጡ', 'አስተማማኝ', 'ሰፊ', 'ፓርኪንግ', 'ያላቸው', 'መሆናቸውን', 'በታላቅ', 'ደስታ', 'እናበስራለን']\n",
      "Example labels: ['O', 'O', 'O', 'O', 'O', 'O', 'O', 'O', 'O', 'O', 'O', 'O', 'O', 'B-LOC', 'O', 'O', 'O', 'O', 'O', 'O', 'O', 'B-LOC', 'O', 'O', 'O', 'O', 'O', 'O', 'O', 'O', 'O', 'O', 'O', 'O', 'O', 'O', 'O', 'O', 'O', 'O', 'O', 'O', 'O', 'O', 'O', 'O', 'O', 'O', 'O', 'O', 'O', 'O', 'O', 'O', 'O', 'O', 'O', 'O', 'O', 'O', 'O', 'O', 'O', 'O', 'O', 'O', 'O', 'O', 'O', 'O', 'O', 'O', 'O', 'O', 'O', 'O', 'O', 'O', 'O', 'O', 'O', 'O', 'O', 'O', 'O', 'O', 'O', 'O', 'O', 'O', 'O', 'O', 'O', 'O', 'O', 'O', 'O', 'O', 'O', 'O', 'O', 'O', 'O', 'O', 'O', 'O', 'O', 'O', 'O', 'O', 'O', 'O', 'O', 'O']\n"
     ]
    }
   ],
   "source": [
    "def load_conll_data(file_path):\n",
    "    sentences = []\n",
    "    labels = []\n",
    "    with open(file_path, 'r', encoding='utf-8') as f:\n",
    "        sentence = []\n",
    "        label = []\n",
    "        for line in f:\n",
    "            line = line.strip()  # Remove extra spaces and newlines\n",
    "            if line == \"\":  # Blank lines separate sentences\n",
    "                if sentence:\n",
    "                    sentences.append(sentence)\n",
    "                    labels.append(label)\n",
    "                    sentence = []\n",
    "                    label = []\n",
    "            else:\n",
    "                # Split the line only if it contains both a token and a label\n",
    "                parts = line.split()\n",
    "                if len(parts) == 2:  # Ensure we have exactly 2 parts (token and label)\n",
    "                    token, entity = parts\n",
    "                    sentence.append(token)\n",
    "                    label.append(entity)\n",
    "                else:\n",
    "                    print(f\"Skipping malformed line: {line}\")\n",
    "                    \n",
    "    return sentences, labels\n",
    "\n",
    "# Load the CoNLL data\n",
    "data_path = '../data/labeled/automated_labeled_data.conll'\n",
    "sentences, labels = load_conll_data(data_path)\n",
    "\n",
    "print(\"Example sentence:\", sentences[0])\n",
    "print(\"Example labels:\", labels[0])\n"
   ]
  },
  {
   "cell_type": "markdown",
   "metadata": {},
   "source": [
    "**Tokenize the Date**"
   ]
  },
  {
   "cell_type": "code",
   "execution_count": 3,
   "metadata": {},
   "outputs": [],
   "source": [
    "from transformers import BertTokenizerFast\n",
    "\n",
    "# Load the tokenizer for the model you will fine-tune\n",
    "tokenizer = BertTokenizerFast.from_pretrained(\"bert-base-cased\")\n",
    "\n",
    "# Tokenize the sentences\n",
    "tokenized_inputs = tokenizer(sentences, is_split_into_words=True, padding=True, truncation=True, return_tensors=\"pt\")\n",
    "\n",
    "# Align the labels with the tokens\n",
    "def align_labels_with_tokens(labels, tokenized_inputs):\n",
    "    aligned_labels = []\n",
    "    for i, label in enumerate(labels):\n",
    "        word_ids = tokenized_inputs.word_ids(batch_index=i)\n",
    "        aligned_label = [-100 if word_id is None else label[word_id] for word_id in word_ids]\n",
    "        aligned_labels.append(aligned_label)\n",
    "    return aligned_labels\n",
    "\n",
    "aligned_labels = align_labels_with_tokens(labels, tokenized_inputs)"
   ]
  },
  {
   "cell_type": "code",
   "execution_count": 4,
   "metadata": {},
   "outputs": [
    {
     "name": "stdout",
     "output_type": "stream",
     "text": [
      "TrainingArguments setup complete\n"
     ]
    },
    {
     "name": "stderr",
     "output_type": "stream",
     "text": [
      "e:\\10 Academy\\EthioMart-Amharic-Named-Entity-Recognition\\.venv\\Lib\\site-packages\\transformers\\training_args.py:1545: FutureWarning: `evaluation_strategy` is deprecated and will be removed in version 4.46 of 🤗 Transformers. Use `eval_strategy` instead\n",
      "  warnings.warn(\n"
     ]
    }
   ],
   "source": [
    "from transformers import TrainingArguments\n",
    "\n",
    "training_args = TrainingArguments(\n",
    "    output_dir=\"./results\",\n",
    "    evaluation_strategy=\"epoch\"\n",
    ")\n",
    "\n",
    "print(\"TrainingArguments setup complete\")\n"
   ]
  },
  {
   "cell_type": "markdown",
   "metadata": {},
   "source": [
    "**Fine-tune the model**"
   ]
  },
  {
   "cell_type": "code",
   "execution_count": 8,
   "metadata": {},
   "outputs": [
    {
     "name": "stdout",
     "output_type": "stream",
     "text": [
      "Label to ID mapping: {'O': 0, 'B-Product': 1, 'B-LOC': 2}\n"
     ]
    },
    {
     "name": "stderr",
     "output_type": "stream",
     "text": [
      "Some weights of BertForTokenClassification were not initialized from the model checkpoint at bert-base-cased and are newly initialized: ['classifier.bias', 'classifier.weight']\n",
      "You should probably TRAIN this model on a down-stream task to be able to use it for predictions and inference.\n",
      "                                             \n",
      " 33%|███▎      | 2/6 [01:32<02:25, 36.26s/it]"
     ]
    },
    {
     "name": "stdout",
     "output_type": "stream",
     "text": [
      "{'eval_loss': 0.22323617339134216, 'eval_runtime': 13.0771, 'eval_samples_per_second': 1.988, 'eval_steps_per_second': 0.153, 'epoch': 1.0}\n"
     ]
    },
    {
     "name": "stderr",
     "output_type": "stream",
     "text": [
      "                                             \n",
      " 67%|██████▋   | 4/6 [02:28<00:58, 29.40s/it]"
     ]
    },
    {
     "name": "stdout",
     "output_type": "stream",
     "text": [
      "{'eval_loss': 0.13700102269649506, 'eval_runtime': 12.016, 'eval_samples_per_second': 2.164, 'eval_steps_per_second': 0.166, 'epoch': 2.0}\n"
     ]
    },
    {
     "name": "stderr",
     "output_type": "stream",
     "text": [
      "                                             \n",
      "100%|██████████| 6/6 [03:44<00:00, 37.38s/it]"
     ]
    },
    {
     "name": "stdout",
     "output_type": "stream",
     "text": [
      "{'eval_loss': 0.12178146094083786, 'eval_runtime': 13.0792, 'eval_samples_per_second': 1.988, 'eval_steps_per_second': 0.153, 'epoch': 3.0}\n",
      "{'train_runtime': 224.3211, 'train_samples_per_second': 0.348, 'train_steps_per_second': 0.027, 'train_loss': 0.39222343762715656, 'epoch': 3.0}\n"
     ]
    },
    {
     "name": "stderr",
     "output_type": "stream",
     "text": [
      "\n"
     ]
    },
    {
     "data": {
      "text/plain": [
       "TrainOutput(global_step=6, training_loss=0.39222343762715656, metrics={'train_runtime': 224.3211, 'train_samples_per_second': 0.348, 'train_steps_per_second': 0.027, 'total_flos': 8518759562664.0, 'train_loss': 0.39222343762715656, 'epoch': 3.0})"
      ]
     },
     "execution_count": 8,
     "metadata": {},
     "output_type": "execute_result"
    }
   ],
   "source": [
    "import torch  # Add this line\n",
    "from transformers import BertForTokenClassification, Trainer, TrainingArguments\n",
    "from torch.utils.data import Dataset\n",
    "\n",
    "# Create a label mapping (label2id and id2label)\n",
    "unique_labels = set(label for label_list in labels for label in label_list)  # Collect all unique labels\n",
    "label2id = {label: idx for idx, label in enumerate(unique_labels)}\n",
    "id2label = {idx: label for label, idx in label2id.items()}\n",
    "\n",
    "print(\"Label to ID mapping:\", label2id)\n",
    "\n",
    "# Convert string labels to numeric labels, skipping -100 values\n",
    "def convert_labels_to_ids(labels, label2id):\n",
    "    numeric_labels = []\n",
    "    for label_list in labels:\n",
    "        numeric_label_list = []\n",
    "        for label in label_list:\n",
    "            if label == -100:\n",
    "                numeric_label_list.append(-100)  # Keep the -100 label as is\n",
    "            else:\n",
    "                numeric_label_list.append(label2id[label])  # Convert valid labels to IDs\n",
    "        numeric_labels.append(numeric_label_list)\n",
    "    return numeric_labels\n",
    "\n",
    "# Convert the aligned labels to IDs\n",
    "numeric_labels = convert_labels_to_ids(aligned_labels, label2id)\n",
    "\n",
    "\n",
    "# Ensure labels have the same length as input_ids (necessary padding if needed)\n",
    "def align_numeric_labels_with_tokens(labels, tokenized_inputs):\n",
    "    aligned_labels = []\n",
    "    for i, label in enumerate(labels):\n",
    "        word_ids = tokenized_inputs.word_ids(batch_index=i)\n",
    "        aligned_label = [-100 if word_id is None else label[word_id] for word_id in word_ids]\n",
    "        aligned_labels.append(aligned_label)\n",
    "    return aligned_labels\n",
    "\n",
    "aligned_numeric_labels = align_numeric_labels_with_tokens(numeric_labels, tokenized_inputs)\n",
    "\n",
    "# Now we can use the aligned numeric labels in the Dataset class\n",
    "class NERDataset(Dataset):\n",
    "    def __init__(self, tokenized_inputs, labels):\n",
    "        self.input_ids = tokenized_inputs['input_ids']\n",
    "        self.attention_mask = tokenized_inputs['attention_mask']\n",
    "        self.labels = torch.tensor(labels, dtype=torch.long)  # Make sure labels are in long type\n",
    "\n",
    "    def __len__(self):\n",
    "        return len(self.input_ids)\n",
    "\n",
    "    def __getitem__(self, idx):\n",
    "        return {\n",
    "            'input_ids': self.input_ids[idx],\n",
    "            'attention_mask': self.attention_mask[idx],\n",
    "            'labels': self.labels[idx]\n",
    "        }\n",
    "\n",
    "# Create the dataset with numeric labels\n",
    "dataset = NERDataset(tokenized_inputs, aligned_numeric_labels)\n",
    "\n",
    "# Load the pre-trained model for token classification\n",
    "model = BertForTokenClassification.from_pretrained(\"bert-base-cased\", num_labels=len(label2id))\n",
    "\n",
    "# Define training arguments\n",
    "training_args = TrainingArguments(\n",
    "    output_dir=\"./results\",\n",
    "    evaluation_strategy=\"epoch\",\n",
    "    learning_rate=2e-5,\n",
    "    per_device_train_batch_size=16,\n",
    "    per_device_eval_batch_size=16,\n",
    "    num_train_epochs=3,\n",
    "    weight_decay=0.01,\n",
    "    logging_dir=\"./logs\",\n",
    ")\n",
    "\n",
    "# Initialize the Trainer\n",
    "trainer = Trainer(\n",
    "    model=model,\n",
    "    args=training_args,\n",
    "    train_dataset=dataset,\n",
    "    eval_dataset=dataset,\n",
    "    tokenizer=tokenizer,\n",
    ")\n",
    "\n",
    "# Train the model\n",
    "trainer.train()\n",
    "\n"
   ]
  },
  {
   "cell_type": "markdown",
   "metadata": {},
   "source": [
    "**Save the Fine-tuned Model**"
   ]
  },
  {
   "cell_type": "code",
   "execution_count": 10,
   "metadata": {},
   "outputs": [
    {
     "data": {
      "text/plain": [
       "('./models/fine_tuned_model\\\\tokenizer_config.json',\n",
       " './models/fine_tuned_model\\\\special_tokens_map.json',\n",
       " './models/fine_tuned_model\\\\vocab.txt',\n",
       " './models/fine_tuned_model\\\\added_tokens.json',\n",
       " './models/fine_tuned_model\\\\tokenizer.json')"
      ]
     },
     "execution_count": 10,
     "metadata": {},
     "output_type": "execute_result"
    }
   ],
   "source": [
    "# Save the fine-tuned model and tokenizer\n",
    "model.save_pretrained(\"./models/fine_tuned_model\")\n",
    "tokenizer.save_pretrained(\"./models/fine_tuned_model\")\n"
   ]
  }
 ],
 "metadata": {
  "kernelspec": {
   "display_name": ".venv",
   "language": "python",
   "name": "python3"
  },
  "language_info": {
   "codemirror_mode": {
    "name": "ipython",
    "version": 3
   },
   "file_extension": ".py",
   "mimetype": "text/x-python",
   "name": "python",
   "nbconvert_exporter": "python",
   "pygments_lexer": "ipython3",
   "version": "3.11.9"
  }
 },
 "nbformat": 4,
 "nbformat_minor": 2
}
