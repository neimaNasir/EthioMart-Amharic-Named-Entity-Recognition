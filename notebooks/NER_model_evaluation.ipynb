{
 "cells": [
  {
   "cell_type": "markdown",
   "metadata": {},
   "source": [
    "**Load the Fine-Tuned Model**"
   ]
  },
  {
   "cell_type": "code",
   "execution_count": 7,
   "metadata": {},
   "outputs": [],
   "source": [
    "import torch\n",
    "from transformers import BertForTokenClassification, BertTokenizer, Trainer, TrainingArguments\n",
    "import evaluate  \n",
    "import numpy as np"
   ]
  },
  {
   "cell_type": "code",
   "execution_count": 8,
   "metadata": {},
   "outputs": [],
   "source": [
    "# Load the fine-tuned model and tokenizer\n",
    "model = BertForTokenClassification.from_pretrained(\"./models/fine_tuned_model\")\n",
    "tokenizer = BertTokenizer.from_pretrained(\"./models/fine_tuned_model\")"
   ]
  },
  {
   "cell_type": "code",
   "execution_count": 9,
   "metadata": {},
   "outputs": [],
   "source": [
    "# Load the evaluation metric\n",
    "metric = evaluate.load(\"seqeval\")"
   ]
  },
  {
   "cell_type": "markdown",
   "metadata": {},
   "source": [
    "**Define Functions to Prepare Test Data for Evaluation**"
   ]
  },
  {
   "cell_type": "code",
   "execution_count": 10,
   "metadata": {},
   "outputs": [],
   "source": [
    "# Function to load CoNLL test data (same as in previous tasks)\n",
    "def load_conll_data(file_path):\n",
    "    sentences = []\n",
    "    labels = []\n",
    "    with open(file_path, 'r', encoding='utf-8') as f:\n",
    "        sentence = []\n",
    "        label = []\n",
    "        for line in f:\n",
    "            line = line.strip()\n",
    "            if line == \"\":\n",
    "                if sentence:\n",
    "                    sentences.append(sentence)\n",
    "                    labels.append(label)\n",
    "                    sentence = []\n",
    "                    label = []\n",
    "            else:\n",
    "                parts = line.split()\n",
    "                if len(parts) == 2:\n",
    "                    token, entity = parts\n",
    "                    sentence.append(token)\n",
    "                    label.append(entity)\n",
    "    return sentences, labels\n",
    "\n",
    "# Load the test data\n",
    "test_data_path = './data/labeled/test_data.conll'\n",
    "test_sentences, test_labels = load_conll_data(test_data_path)\n",
    "\n",
    "# Tokenize the test sentences\n",
    "tokenized_test_inputs = tokenizer(test_sentences, is_split_into_words=True, padding=True, truncation=True, return_tensors=\"pt\")\n"
   ]
  },
  {
   "cell_type": "markdown",
   "metadata": {},
   "source": [
    "**Make Predictions and Align Labels**"
   ]
  },
  {
   "cell_type": "code",
   "execution_count": 16,
   "metadata": {},
   "outputs": [
    {
     "name": "stderr",
     "output_type": "stream",
     "text": [
      "100%|██████████| 1/1 [00:01<00:00,  1.67s/it]"
     ]
    },
    {
     "name": "stdout",
     "output_type": "stream",
     "text": [
      "Evaluation Results: {'eval_loss': 4.736898899078369, 'eval_model_preparation_time': 0.0, 'eval_precision': 0.012328767123287671, 'eval_recall': 1.0, 'eval_f1': 0.02435723951285521, 'eval_accuracy': 0.012328767123287671, 'eval_runtime': 5.6434, 'eval_samples_per_second': 1.063, 'eval_steps_per_second': 0.177}\n"
     ]
    },
    {
     "name": "stderr",
     "output_type": "stream",
     "text": [
      "\n"
     ]
    }
   ],
   "source": [
    "# Tokenize the test sentences using the fast tokenizer\n",
    "tokenized_test_inputs = tokenizer(test_sentences, is_split_into_words=True, padding=True, truncation=True, return_tensors=\"pt\")\n",
    "\n",
    "# Align labels with the tokenized inputs\n",
    "def align_labels_with_tokens(labels, tokenized_inputs):\n",
    "    aligned_labels = []\n",
    "    for i, label in enumerate(labels):\n",
    "        word_ids = tokenized_inputs.word_ids(batch_index=i)\n",
    "        aligned_label = [-100 if word_id is None else label[word_id] for word_id in word_ids]\n",
    "        aligned_labels.append(aligned_label)\n",
    "    return aligned_labels\n",
    "\n",
    "# Convert string labels to numeric labels\n",
    "def convert_labels_to_ids(labels, label2id):\n",
    "    numeric_labels = []\n",
    "    for label_list in labels:\n",
    "        numeric_label_list = [label2id.get(label, -100) for label in label_list]\n",
    "        numeric_labels.append(numeric_label_list)\n",
    "    return numeric_labels\n",
    "\n",
    "# Create label-to-id and id-to-label mappings (same mappings as Task 3)\n",
    "unique_labels = set(label for label_list in test_labels for label in label_list)\n",
    "label2id = {label: idx for idx, label in enumerate(unique_labels)}\n",
    "id2label = {idx: label for label, idx in label2id.items()}\n",
    "\n",
    "# Align test labels with the tokenized inputs\n",
    "aligned_test_labels = align_labels_with_tokens(test_labels, tokenized_test_inputs)\n",
    "\n",
    "# Convert aligned test labels to numeric IDs\n",
    "numeric_test_labels = convert_labels_to_ids(aligned_test_labels, label2id)\n",
    "\n",
    "# Define the NERDataset class (as in Task 3)\n",
    "class NERDataset(torch.utils.data.Dataset):\n",
    "    def __init__(self, tokenized_inputs, labels):\n",
    "        self.input_ids = tokenized_inputs['input_ids']\n",
    "        self.attention_mask = tokenized_inputs['attention_mask']\n",
    "        self.labels = torch.tensor(labels, dtype=torch.long)\n",
    "\n",
    "    def __len__(self):\n",
    "        return len(self.input_ids)\n",
    "\n",
    "    def __getitem__(self, idx):\n",
    "        return {\n",
    "            'input_ids': self.input_ids[idx],\n",
    "            'attention_mask': self.attention_mask[idx],\n",
    "            'labels': self.labels[idx]\n",
    "        }\n",
    "\n",
    "# Create the test dataset\n",
    "test_dataset = NERDataset(tokenized_test_inputs, numeric_test_labels)\n",
    "\n",
    "# Define a function to compute evaluation metrics\n",
    "def compute_metrics(p):\n",
    "    predictions, labels = p\n",
    "    predictions = np.argmax(predictions, axis=2)\n",
    "\n",
    "    true_labels = [[id2label[l] for l in label if l != -100] for label in labels]\n",
    "    true_predictions = [[id2label[p] for (p, l) in zip(pred, label) if l != -100] for pred, label in zip(predictions, labels)]\n",
    "\n",
    "    results = metric.compute(predictions=true_predictions, references=true_labels)\n",
    "    return {\n",
    "        \"precision\": results[\"overall_precision\"],\n",
    "        \"recall\": results[\"overall_recall\"],\n",
    "        \"f1\": results[\"overall_f1\"],\n",
    "        \"accuracy\": results[\"overall_accuracy\"]\n",
    "    }\n",
    "\n",
    "# Load evaluation arguments\n",
    "evaluation_args = TrainingArguments(\n",
    "    output_dir=\"./results\",\n",
    "    per_device_eval_batch_size=16,\n",
    "    logging_dir=\"./logs\"\n",
    ")\n",
    "\n",
    "# Initialize the Trainer with evaluation dataset\n",
    "trainer = Trainer(\n",
    "    model=model,\n",
    "    args=evaluation_args,\n",
    "    eval_dataset=test_dataset,\n",
    "    compute_metrics=compute_metrics,\n",
    "    tokenizer=tokenizer\n",
    ")\n",
    "\n",
    "# Evaluate the model\n",
    "eval_results = trainer.evaluate()\n",
    "print(f\"Evaluation Results: {eval_results}\")"
   ]
  }
 ],
 "metadata": {
  "kernelspec": {
   "display_name": ".venv",
   "language": "python",
   "name": "python3"
  },
  "language_info": {
   "codemirror_mode": {
    "name": "ipython",
    "version": 3
   },
   "file_extension": ".py",
   "mimetype": "text/x-python",
   "name": "python",
   "nbconvert_exporter": "python",
   "pygments_lexer": "ipython3",
   "version": "3.11.9"
  }
 },
 "nbformat": 4,
 "nbformat_minor": 2
}
