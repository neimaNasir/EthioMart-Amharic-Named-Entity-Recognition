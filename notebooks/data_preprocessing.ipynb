{
 "cells": [
  {
   "cell_type": "code",
   "execution_count": 1,
   "metadata": {},
   "outputs": [],
   "source": [
    "import json\n",
    "import re\n",
    "import os\n",
    "import pandas as pd\n"
   ]
  },
  {
   "cell_type": "code",
   "execution_count": 2,
   "metadata": {},
   "outputs": [
    {
     "data": {
      "text/html": [
       "<div>\n",
       "<style scoped>\n",
       "    .dataframe tbody tr th:only-of-type {\n",
       "        vertical-align: middle;\n",
       "    }\n",
       "\n",
       "    .dataframe tbody tr th {\n",
       "        vertical-align: top;\n",
       "    }\n",
       "\n",
       "    .dataframe thead th {\n",
       "        text-align: right;\n",
       "    }\n",
       "</style>\n",
       "<table border=\"1\" class=\"dataframe\">\n",
       "  <thead>\n",
       "    <tr style=\"text-align: right;\">\n",
       "      <th></th>\n",
       "      <th>id</th>\n",
       "      <th>sender_id</th>\n",
       "      <th>message</th>\n",
       "      <th>date</th>\n",
       "      <th>media</th>\n",
       "    </tr>\n",
       "  </thead>\n",
       "  <tbody>\n",
       "    <tr>\n",
       "      <th>0</th>\n",
       "      <td>14901</td>\n",
       "      <td>-1001424695758</td>\n",
       "      <td></td>\n",
       "      <td>2024-10-09 14:07:16+00:00</td>\n",
       "      <td>other</td>\n",
       "    </tr>\n",
       "    <tr>\n",
       "      <th>1</th>\n",
       "      <td>14900</td>\n",
       "      <td>-1001424695758</td>\n",
       "      <td></td>\n",
       "      <td>2024-10-09 14:07:16+00:00</td>\n",
       "      <td>other</td>\n",
       "    </tr>\n",
       "    <tr>\n",
       "      <th>2</th>\n",
       "      <td>14899</td>\n",
       "      <td>-1001424695758</td>\n",
       "      <td></td>\n",
       "      <td>2024-10-09 14:07:16+00:00</td>\n",
       "      <td>other</td>\n",
       "    </tr>\n",
       "    <tr>\n",
       "      <th>3</th>\n",
       "      <td>14898</td>\n",
       "      <td>-1001424695758</td>\n",
       "      <td>mama bag\\nኦሪጅናል ማቴሪያል\\nበሳይዙ ትልቅ\\n 1600 ብር\\nFre...</td>\n",
       "      <td>2024-10-09 14:07:16+00:00</td>\n",
       "      <td>other</td>\n",
       "    </tr>\n",
       "    <tr>\n",
       "      <th>4</th>\n",
       "      <td>14897</td>\n",
       "      <td>-1001424695758</td>\n",
       "      <td>ኦሪጅናል ማቀፊያ\\n1400 ብር\\n0905707448\\n0909003864\\n\\...</td>\n",
       "      <td>2024-10-09 14:01:33+00:00</td>\n",
       "      <td>other</td>\n",
       "    </tr>\n",
       "  </tbody>\n",
       "</table>\n",
       "</div>"
      ],
      "text/plain": [
       "      id      sender_id                                            message  \\\n",
       "0  14901 -1001424695758                                                      \n",
       "1  14900 -1001424695758                                                      \n",
       "2  14899 -1001424695758                                                      \n",
       "3  14898 -1001424695758  mama bag\\nኦሪጅናል ማቴሪያል\\nበሳይዙ ትልቅ\\n 1600 ብር\\nFre...   \n",
       "4  14897 -1001424695758  ኦሪጅናል ማቀፊያ\\n1400 ብር\\n0905707448\\n0909003864\\n\\...   \n",
       "\n",
       "                        date  media  \n",
       "0  2024-10-09 14:07:16+00:00  other  \n",
       "1  2024-10-09 14:07:16+00:00  other  \n",
       "2  2024-10-09 14:07:16+00:00  other  \n",
       "3  2024-10-09 14:07:16+00:00  other  \n",
       "4  2024-10-09 14:01:33+00:00  other  "
      ]
     },
     "execution_count": 2,
     "metadata": {},
     "output_type": "execute_result"
    }
   ],
   "source": [
    "def load_data(file_path):\n",
    "    \n",
    "    with open(file_path, 'r', encoding='utf-8') as f:\n",
    "        data = json.load(f)\n",
    "    return data\n",
    "\n",
    "# Load the raw data from the file\n",
    "raw_data_path = '../data/raw/@sinayelj_messages.json'\n",
    "messages = load_data(raw_data_path)\n",
    "\n",
    "# Display the first few messages to check the structure\n",
    "pd.DataFrame(messages).head()\n"
   ]
  },
  {
   "cell_type": "code",
   "execution_count": 4,
   "metadata": {},
   "outputs": [
    {
     "name": "stdout",
     "output_type": "stream",
     "text": [
      "Original: \n",
      "Cleaned: \n"
     ]
    }
   ],
   "source": [
    "def clean_text(text):\n",
    "   \n",
    "    text = re.sub(r'\\s+', ' ', text)  # Remove extra spaces\n",
    "    text = re.sub(r'[^\\w\\s።፥፡፣፤፦፨]', '', text)  # Remove punctuation except Amharic-specific ones\n",
    "    return text.strip()\n",
    "\n",
    "# Test the cleaning function on a sample message\n",
    "sample_message = messages[0]['message']\n",
    "cleaned_message = clean_text(sample_message)\n",
    "print(\"Original:\", sample_message)\n",
    "print(\"Cleaned:\", cleaned_message)\n"
   ]
  },
  {
   "cell_type": "code",
   "execution_count": 5,
   "metadata": {},
   "outputs": [
    {
     "name": "stdout",
     "output_type": "stream",
     "text": [
      "Tokens: ['']\n"
     ]
    }
   ],
   "source": [
    "def tokenize_message(message):\n",
    "    \n",
    "    tokens = message.split(' ')\n",
    "    return tokens\n",
    "\n",
    "# Test the tokenization on the cleaned sample message\n",
    "tokens = tokenize_message(cleaned_message)\n",
    "print(\"Tokens:\", tokens)\n"
   ]
  },
  {
   "cell_type": "code",
   "execution_count": 6,
   "metadata": {},
   "outputs": [
    {
     "data": {
      "text/html": [
       "<div>\n",
       "<style scoped>\n",
       "    .dataframe tbody tr th:only-of-type {\n",
       "        vertical-align: middle;\n",
       "    }\n",
       "\n",
       "    .dataframe tbody tr th {\n",
       "        vertical-align: top;\n",
       "    }\n",
       "\n",
       "    .dataframe thead th {\n",
       "        text-align: right;\n",
       "    }\n",
       "</style>\n",
       "<table border=\"1\" class=\"dataframe\">\n",
       "  <thead>\n",
       "    <tr style=\"text-align: right;\">\n",
       "      <th></th>\n",
       "      <th>id</th>\n",
       "      <th>sender_id</th>\n",
       "      <th>message</th>\n",
       "      <th>date</th>\n",
       "      <th>media</th>\n",
       "      <th>clean_message</th>\n",
       "      <th>tokens</th>\n",
       "    </tr>\n",
       "  </thead>\n",
       "  <tbody>\n",
       "    <tr>\n",
       "      <th>0</th>\n",
       "      <td>14901</td>\n",
       "      <td>-1001424695758</td>\n",
       "      <td></td>\n",
       "      <td>2024-10-09 14:07:16+00:00</td>\n",
       "      <td>other</td>\n",
       "      <td>NaN</td>\n",
       "      <td>NaN</td>\n",
       "    </tr>\n",
       "    <tr>\n",
       "      <th>1</th>\n",
       "      <td>14900</td>\n",
       "      <td>-1001424695758</td>\n",
       "      <td></td>\n",
       "      <td>2024-10-09 14:07:16+00:00</td>\n",
       "      <td>other</td>\n",
       "      <td>NaN</td>\n",
       "      <td>NaN</td>\n",
       "    </tr>\n",
       "    <tr>\n",
       "      <th>2</th>\n",
       "      <td>14899</td>\n",
       "      <td>-1001424695758</td>\n",
       "      <td></td>\n",
       "      <td>2024-10-09 14:07:16+00:00</td>\n",
       "      <td>other</td>\n",
       "      <td>NaN</td>\n",
       "      <td>NaN</td>\n",
       "    </tr>\n",
       "    <tr>\n",
       "      <th>3</th>\n",
       "      <td>14898</td>\n",
       "      <td>-1001424695758</td>\n",
       "      <td>mama bag\\nኦሪጅናል ማቴሪያል\\nበሳይዙ ትልቅ\\n 1600 ብር\\nFre...</td>\n",
       "      <td>2024-10-09 14:07:16+00:00</td>\n",
       "      <td>other</td>\n",
       "      <td>mama bag ኦሪጅናል ማቴሪያል በሳይዙ ትልቅ 1600 ብር Free del...</td>\n",
       "      <td>[mama, bag, ኦሪጅናል, ማቴሪያል, በሳይዙ, ትልቅ, 1600, ብር,...</td>\n",
       "    </tr>\n",
       "    <tr>\n",
       "      <th>4</th>\n",
       "      <td>14897</td>\n",
       "      <td>-1001424695758</td>\n",
       "      <td>ኦሪጅናል ማቀፊያ\\n1400 ብር\\n0905707448\\n0909003864\\n\\...</td>\n",
       "      <td>2024-10-09 14:01:33+00:00</td>\n",
       "      <td>other</td>\n",
       "      <td>ኦሪጅናል ማቀፊያ 1400 ብር 0905707448 0909003864 09090...</td>\n",
       "      <td>[ኦሪጅናል, ማቀፊያ, 1400, ብር, 0905707448, 0909003864...</td>\n",
       "    </tr>\n",
       "  </tbody>\n",
       "</table>\n",
       "</div>"
      ],
      "text/plain": [
       "      id      sender_id                                            message  \\\n",
       "0  14901 -1001424695758                                                      \n",
       "1  14900 -1001424695758                                                      \n",
       "2  14899 -1001424695758                                                      \n",
       "3  14898 -1001424695758  mama bag\\nኦሪጅናል ማቴሪያል\\nበሳይዙ ትልቅ\\n 1600 ብር\\nFre...   \n",
       "4  14897 -1001424695758  ኦሪጅናል ማቀፊያ\\n1400 ብር\\n0905707448\\n0909003864\\n\\...   \n",
       "\n",
       "                        date  media  \\\n",
       "0  2024-10-09 14:07:16+00:00  other   \n",
       "1  2024-10-09 14:07:16+00:00  other   \n",
       "2  2024-10-09 14:07:16+00:00  other   \n",
       "3  2024-10-09 14:07:16+00:00  other   \n",
       "4  2024-10-09 14:01:33+00:00  other   \n",
       "\n",
       "                                       clean_message  \\\n",
       "0                                                NaN   \n",
       "1                                                NaN   \n",
       "2                                                NaN   \n",
       "3  mama bag ኦሪጅናል ማቴሪያል በሳይዙ ትልቅ 1600 ብር Free del...   \n",
       "4  ኦሪጅናል ማቀፊያ 1400 ብር 0905707448 0909003864 09090...   \n",
       "\n",
       "                                              tokens  \n",
       "0                                                NaN  \n",
       "1                                                NaN  \n",
       "2                                                NaN  \n",
       "3  [mama, bag, ኦሪጅናል, ማቴሪያል, በሳይዙ, ትልቅ, 1600, ብር,...  \n",
       "4  [ኦሪጅናል, ማቀፊያ, 1400, ብር, 0905707448, 0909003864...  "
      ]
     },
     "execution_count": 6,
     "metadata": {},
     "output_type": "execute_result"
    }
   ],
   "source": [
    "def preprocess_data(messages):\n",
    "    \n",
    "    for message in messages:\n",
    "        if message['message']:\n",
    "            message['clean_message'] = clean_text(message['message'])\n",
    "            message['tokens'] = tokenize_message(message['clean_message'])\n",
    "    return messages\n",
    "\n",
    "# Preprocess all messages\n",
    "processed_messages = preprocess_data(messages)\n",
    "\n",
    "# Display the first few processed messages\n",
    "pd.DataFrame(processed_messages).head()\n"
   ]
  },
  {
   "cell_type": "code",
   "execution_count": 7,
   "metadata": {},
   "outputs": [
    {
     "name": "stdout",
     "output_type": "stream",
     "text": [
      "Preprocessing completed and data saved to ../data/processed/processed_messages.json\n"
     ]
    }
   ],
   "source": [
    "def save_preprocessed_data(messages, filename):\n",
    "\n",
    "    os.makedirs(os.path.dirname(filename), exist_ok=True)\n",
    "    with open(filename, 'w', encoding='utf-8') as f:\n",
    "        json.dump(messages, f, ensure_ascii=False, indent=4)\n",
    "\n",
    "# Save the preprocessed data\n",
    "save_preprocessed_data(processed_messages, '../data/processed/processed_messages.json')\n",
    "print(\"Preprocessing completed and data saved to ../data/processed/processed_messages.json\")\n"
   ]
  }
 ],
 "metadata": {
  "kernelspec": {
   "display_name": ".venv",
   "language": "python",
   "name": "python3"
  },
  "language_info": {
   "codemirror_mode": {
    "name": "ipython",
    "version": 3
   },
   "file_extension": ".py",
   "mimetype": "text/x-python",
   "name": "python",
   "nbconvert_exporter": "python",
   "pygments_lexer": "ipython3",
   "version": "3.11.9"
  }
 },
 "nbformat": 4,
 "nbformat_minor": 2
}
