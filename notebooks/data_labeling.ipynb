{
 "cells": [
  {
   "cell_type": "code",
   "execution_count": 3,
   "metadata": {},
   "outputs": [],
   "source": [
    "import spacy\n",
    "import json\n",
    "import pandas as pd\n",
    "import os"
   ]
  },
  {
   "cell_type": "code",
   "execution_count": 4,
   "metadata": {},
   "outputs": [],
   "source": [
    "# Load spaCy's pre-trained NER model\n",
    "nlp = spacy.load(\"en_core_web_sm\")"
   ]
  },
  {
   "cell_type": "code",
   "execution_count": 5,
   "metadata": {},
   "outputs": [],
   "source": [
    "# Load the processed dataset (from Task 1)\n",
    "def load_processed_data(file_path):\n",
    "    with open(file_path, 'r', encoding='utf-8') as f:\n",
    "        return json.load(f)"
   ]
  },
  {
   "cell_type": "code",
   "execution_count": 6,
   "metadata": {},
   "outputs": [],
   "source": [
    "# Path to the processed dataset\n",
    "processed_data_path = '../data/processed/processed_messages.json'\n",
    "messages = load_processed_data(processed_data_path)"
   ]
  },
  {
   "cell_type": "code",
   "execution_count": 7,
   "metadata": {},
   "outputs": [],
   "source": [
    "# Convert to a DataFrame for easier manipulation\n",
    "df = pd.DataFrame(messages)"
   ]
  },
  {
   "cell_type": "code",
   "execution_count": 8,
   "metadata": {},
   "outputs": [],
   "source": [
    "# Extract a subset of 50 messages\n",
    "subset_df = df[['id', 'clean_message', 'tokens']].dropna(subset=['tokens'])\n",
    "subset_df = subset_df[subset_df['tokens'].apply(lambda x: isinstance(x, list) and len(x) > 0)]\n",
    "subset_df = subset_df.head(50)"
   ]
  },
  {
   "cell_type": "code",
   "execution_count": 9,
   "metadata": {},
   "outputs": [],
   "source": [
    "# Reset the index for easier handling\n",
    "subset_df.reset_index(drop=True, inplace=True)"
   ]
  },
  {
   "cell_type": "code",
   "execution_count": 10,
   "metadata": {},
   "outputs": [],
   "source": [
    "# Function to automate labeling using spaCy\n",
    "def automate_labeling(tokens):\n",
    "    \"\"\"\n",
    "    Function to automatically label tokens using a pre-trained NER model (spaCy).\n",
    "    \"\"\"\n",
    "    doc = nlp(\" \".join(tokens))  # Create a spaCy document from the tokens\n",
    "    labeled_tokens = []\n",
    "    \n",
    "    for token in doc:\n",
    "        # Use spaCy's named entity recognition (NER) labels\n",
    "        if token.ent_type_ == 'PERSON':\n",
    "            label = 'O'  # We don't need PERSON, map it to 'O'\n",
    "        elif token.ent_type_ == 'GPE':\n",
    "            label = 'B-LOC'\n",
    "        elif token.ent_type_ == 'ORG':\n",
    "            label = 'O'  # We don't need ORG for now, map to 'O'\n",
    "        elif token.ent_type_ == 'MONEY':\n",
    "            label = 'B-PRICE'\n",
    "        elif token.ent_type_ == 'PRODUCT':\n",
    "            label = 'B-Product'\n",
    "        else:\n",
    "            label = 'O'  # Any token not recognized by NER will be 'O'\n",
    "        \n",
    "        labeled_tokens.append((token.text, label))\n",
    "    \n",
    "    return labeled_tokens"
   ]
  },
  {
   "cell_type": "code",
   "execution_count": 11,
   "metadata": {},
   "outputs": [],
   "source": [
    "# Apply automated labeling to the entire subset\n",
    "def label_subset_automatically(df):\n",
    "    labeled_data = []\n",
    "    for _, row in df.iterrows():\n",
    "        print(f\"\\nAuto-labeling message ID: {row['id']}\\nMessage: {row['clean_message']}\\n\")\n",
    "        labeled_message = automate_labeling(row['tokens'])\n",
    "        labeled_data.append(labeled_message)  # Append the labeled tokens for each message\n",
    "    return labeled_data"
   ]
  },
  {
   "cell_type": "code",
   "execution_count": 12,
   "metadata": {},
   "outputs": [],
   "source": [
    "# Function to save the labeled data in CoNLL format\n",
    "def save_conll_format(labeled_data, output_path):\n",
    "    \"\"\"\n",
    "    Function to save labeled data in CoNLL format.\n",
    "    \"\"\"\n",
    "    if not labeled_data:\n",
    "        print(\"No labeled data to save.\")\n",
    "        return\n",
    "    \n",
    "    os.makedirs(os.path.dirname(output_path), exist_ok=True)\n",
    "    \n",
    "    with open(output_path, 'w', encoding='utf-8') as f:\n",
    "        for message in labeled_data:\n",
    "            if message:  # Ensure there's labeled data\n",
    "                for token, label in message:\n",
    "                    f.write(f\"{token} {label}\\n\")\n",
    "                f.write(\"\\n\")  # Separate messages with a newline\n",
    "    print(f\"Labeled data saved to {output_path}\")"
   ]
  },
  {
   "cell_type": "code",
   "execution_count": 13,
   "metadata": {},
   "outputs": [
    {
     "name": "stdout",
     "output_type": "stream",
     "text": [
      "\n",
      "Auto-labeling message ID: 14898\n",
      "Message: mama bag ኦሪጅናል ማቴሪያል በሳይዙ ትልቅ 1600 ብር Free delivery 0909003864 0905707448 ሊንኩን በመጫን ቴሌግራማችንን ይቀላቀሉhttpstmesinayelj እቃ ለማዘዝ ከስር ያለውን ሊንኮች በመጫን ማዘዝ ትችላላቹ sinasinaye httpstmesinayelj2 አድራሻ 1ቁጥር1 ገርጂ ኢምፔሪያል ከሳሚ ህንፃ ጎን አልፎዝ ፕላዛ ግራውንድ ላይ እንደገቡ ያገኙናል 2ቁጥር2 4ኪሎ ቅድስት ስላሴ ህንፃ ማለትም ከብልፅግና ዋናፅፈት ቤት ህንፃ በስተ ቀኝ ባለው አስፓልት 20ሜትር ዝቅ እንዳሉ ሀበሻ ኮፊ የሚገኝበት ቀይ ሸክላ ህንፃ 2ተኛ ፎቅ ላይ ያገኙናል 3ቁጥር3 ብስራተ ገብርኤል ላፍቶ ሞል መግቢያው ፊት ለፊት የሚገኘው የብስራተ ገብርኤል ቤተ ክርስቲያን ህንፃ አንደኛ ፎቅ ላይ ደረጃ እንደወጣቹ በስተግራ በኩል ሱቅ ቁጥር FF09 ክቡራን ደምበኞቻችን ገርጂ አልፎዝ ፕላዛ ላይ አራት ኪሎ ቅድስት ስላሴ እንዲሁም ብስራተ ገብሬል ያሉት ሱቆቻችን ሲመጡ አስተማማኝ ሰፊ ፓርኪንግ ያላቸው መሆናቸውን በታላቅ ደስታ እናበስራለን\n",
      "\n",
      "\n",
      "Auto-labeling message ID: 14897\n",
      "Message: ኦሪጅናል ማቀፊያ 1400 ብር 0905707448 0909003864 0909003864 0905707448 እቃ ለማዘዝ ከስር ያለውን ሊንኮች በመጫን ማዘዝ ትችላላቹ sinasinaye sinayalj2 አድራሻ 1ቁጥር1 ገርጂ ኢምፔሪያል ከሳሚ ህንፃ ጎን አልፎዝ ፕላዛ ግራውንድ ላይ እንደገቡ ያገኙናል 2ቁጥር2 4ኪሎ ቅድስት ስላሴ ህንፃ ማለትም ከብልፅግና ዋናፅፈት ቤት ህንፃ በስተ ቀኝ ባለው አስፓልት 20ሜትር ዝቅ እንዳሉ ሀበሻ ኮፊ የሚገኝበት ቀይ ሸክላ ህንፃ 2ተኛ ፎቅ ላይ ያገኙናል 3ቁጥር3 ብስራተ ገብርኤል ላፍቶ ሞል መግቢያው ፊት ለፊት የሚገኘው የብስራተ ገብርኤል ቤተ ክርስቲያን ህንፃ አንደኛ ፎቅ ላይ ደረጃ እንደወጣቹ በስተግራ በኩል ሱቅ ቁጥር FF09 ክቡራን ደምበኞቻችን ገርጂ አልፎዝ ፕላዛ ላይ አራት ኪሎ ቅድስት ስላሴ እንዲሁም ብስራተ ገብሬል ያሉት ሱቆቻችን ሲመጡ አስተማማኝ ሰፊ ፓርኪንግ ያላቸው መሆናቸውን በታላቅ ደስታ እናበስራለን\n",
      "\n",
      "\n",
      "Auto-labeling message ID: 14892\n",
      "Message: ልጆች ዳዴ ማለት እንዲሉ የሚለማመዱበት በባትሪ የሚሰራ የልጆች መጫዎቻ 1100ብር ለበለጠ ከስር ያለውን ቪዲዮ ይመልከቱ 0909003864 0905707448 እቃ ለማዘዝ ከስር ያለውን ሊንኮች በመጫን ማዘዝ ትችላላቹ sinasinaye sinayalj2 አድራሻ 1ቁጥር1 ገርጂ ኢምፔሪያል ከሳሚ ህንፃ ጎን አልፎዝ ፕላዛ ግራውንድ ላይ እንደገቡ ያገኙናል 2ቁጥር2 4ኪሎ ቅድስት ስላሴ ህንፃ ማለትም ከብልፅግና ዋናፅፈት ቤት ህንፃ በስተ ቀኝ ባለው አስፓልት 20ሜትር ዝቅ እንዳሉ ሀበሻ ኮፊ የሚገኝበት ቀይ ሸክላ ህንፃ 2ተኛ ፎቅ ላይ ያገኙናል 3ቁጥር3 ብስራተ ገብርኤል ላፍቶ ሞል መግቢያው ፊት ለፊት የሚገኘው የብስራተ ገብርኤል ቤተ ክርስቲያን ህንፃ አንደኛ ፎቅ ላይ ደረጃ እንደወጣቹ በስተግራ በኩል ሱቅ ቁጥር FF09 ክቡራን ደምበኞቻችን ገርጂ አልፎዝ ፕላዛ ላይ አራት ኪሎ ቅድስት ስላሴ እንዲሁም ብስራተ ገብሬል ያሉት ሱቆቻችን ሲመጡ አስተማማኝ ሰፊ ፓርኪንግ ያላቸው መሆናቸውን በታላቅ ደስታ እናበስራለን\n",
      "\n",
      "\n",
      "Auto-labeling message ID: 14887\n",
      "Message: የልጆችን ቀልብ የሚገዛ ውብ ፖፖ ምቹ የሆነ መነሳት የሚችል ስፖንጅ የሆነ መቀመጫ ያለው 0909003864 0905707448 3400 ብር 0909003864 0905707448 ሊንኩን በመጫን ቴሌግራማችንን ይቀላቀሉhttpstmesinayelj እቃ ለማዘዝ ከስር ያለውን ሊንኮች በመጫን ማዘዝ ትችላላቹ sinasinaye httpstmesinayelj2 አድራሻ 1ቁጥር1 ገርጂ ኢምፔሪያል ከሳሚ ህንፃ ጎን አልፎዝ ፕላዛ ግራውንድ ላይ እንደገቡ ያገኙናል 2ቁጥር2 4ኪሎ ቅድስት ስላሴ ህንፃ ማለትም ከብልፅግና ዋናፅፈት ቤት ህንፃ በስተ ቀኝ ባለው አስፓልት 20ሜትር ዝቅ እንዳሉ ሀበሻ ኮፊ የሚገኝበት ቀይ ሸክላ ህንፃ 2ተኛ ፎቅ ላይ ያገኙናል 3ቁጥር3 ብስራተ ገብርኤል ላፍቶ ሞል መግቢያው ፊት ለፊት የሚገኘው የብስራተ ገብርኤል ቤተ ክርስቲያን ህንፃ አንደኛ ፎቅ ላይ ደረጃ እንደወጣቹ በስተግራ በኩል ሱቅ ቁጥር FF09 ክቡራን ደምበኞቻችን ገርጂ አልፎዝ ፕላዛ ላይ አራት ኪሎ ቅድስት ስላሴ እንዲሁም ብስራተ ገብሬል ያሉት ሱቆቻችን ሲመጡ አስተማማኝ ሰፊ ፓርኪንግ ያላቸው መሆናቸውን በታላቅ ደስታ እናበስራለን\n",
      "\n",
      "\n",
      "Auto-labeling message ID: 14881\n",
      "Message: baby babi የልጆችን ቀልብ የሚገዛ ውብ ፖፖ ምቹ የሆነ መነሳት የሚችል ስፖንጅ የሆነ መቀመጫ ያለው 3400 ብር 0909003864 0905707448 እቃ ለማዘዝ ከስር ያለውን ሊንኮች በመጫን ማዘዝ ትችላላቹ sinasinaye sinayalj2 አድራሻ 1ቁጥር1 ገርጂ ኢምፔሪያል ከሳሚ ህንፃ ጎን አልፎዝ ፕላዛ ግራውንድ ላይ እንደገቡ ያገኙናል 2ቁጥር2 4ኪሎ ቅድስት ስላሴ ህንፃ ማለትም ከብልፅግና ዋናፅፈት ቤት ህንፃ በስተ ቀኝ ባለው አስፓልት 20ሜትር ዝቅ እንዳሉ ሀበሻ ኮፊ የሚገኝበት ቀይ ሸክላ ህንፃ 2ተኛ ፎቅ ላይ ያገኙናል 3ቁጥር3 ብስራተ ገብርኤል ላፍቶ ሞል መግቢያው ፊት ለፊት የሚገኘው የብስራተ ገብርኤል ቤተ ክርስቲያን ህንፃ አንደኛ ፎቅ ላይ ደረጃ እንደወጣቹ በስተግራ በኩል ሱቅ ቁጥር FF09 ክቡራን ደምበኞቻችን ገርጂ አልፎዝ ፕላዛ ላይ አራት ኪሎ ቅድስት ስላሴ እንዲሁም ብስራተ ገብሬል ያሉት ሱቆቻችን ሲመጡ አስተማማኝ ሰፊ ፓርኪንግ ያላቸው መሆናቸውን በታላቅ ደስታ እናበስራለን\n",
      "\n",
      "\n",
      "Auto-labeling message ID: 14876\n",
      "Message: የልጆችን ቀልብ የሚገዛ ውብ ፖፖ ምቹ የሆነ መነሳት የሚችል ስፖንጅ የሆነ መቀመጫ ያለው 0909003864 0905707448 3400 ብር 0909003864 0905707448 ሊንኩን በመጫን ቴሌግራማችንን ይቀላቀሉhttpstmesinayelj እቃ ለማዘዝ ከስር ያለውን ሊንኮች በመጫን ማዘዝ ትችላላቹ sinasinaye httpstmesinayelj2 አድራሻ 1ቁጥር1 ገርጂ ኢምፔሪያል ከሳሚ ህንፃ ጎን አልፎዝ ፕላዛ ግራውንድ ላይ እንደገቡ ያገኙናል 2ቁጥር2 4ኪሎ ቅድስት ስላሴ ህንፃ ማለትም ከብልፅግና ዋናፅፈት ቤት ህንፃ በስተ ቀኝ ባለው አስፓልት 20ሜትር ዝቅ እንዳሉ ሀበሻ ኮፊ የሚገኝበት ቀይ ሸክላ ህንፃ 2ተኛ ፎቅ ላይ ያገኙናል 3ቁጥር3 ብስራተ ገብርኤል ላፍቶ ሞል መግቢያው ፊት ለፊት የሚገኘው የብስራተ ገብርኤል ቤተ ክርስቲያን ህንፃ አንደኛ ፎቅ ላይ ደረጃ እንደወጣቹ በስተግራ በኩል ሱቅ ቁጥር FF09 ክቡራን ደምበኞቻችን ገርጂ አልፎዝ ፕላዛ ላይ አራት ኪሎ ቅድስት ስላሴ እንዲሁም ብስራተ ገብሬል ያሉት ሱቆቻችን ሲመጡ አስተማማኝ ሰፊ ፓርኪንግ ያላቸው መሆናቸውን በታላቅ ደስታ እናበስራለን\n",
      "\n",
      "\n",
      "Auto-labeling message ID: 14871\n",
      "Message: KIDILO BABY CAR SEAT የልጆች የመኪና ወንበር እስከ 18 kg የመሸከም አቅም ያለው አስከ 36 ወር ላሉ ልጆችም የሚሆን 14000 ብር free delivery 0909003864 0905707448 እቃ ለማዘዝ ከስር ያለውን ሊንኮች በመጫን ማዘዝ ትችላላቹ sinasinaye sinayalj2 አድራሻ 1ቁጥር1 ገርጂ ኢምፔሪያል ከሳሚ ህንፃ ጎን አልፎዝ ፕላዛ ግራውንድ ላይ እንደገቡ ያገኙናል 2ቁጥር2 4ኪሎ ቅድስት ስላሴ ህንፃ ማለትም ከብልፅግና ዋናፅፈት ቤት ህንፃ በስተ ቀኝ ባለው አስፓልት 20ሜትር ዝቅ እንዳሉ ሀበሻ ኮፊ የሚገኝበት ቀይ ሸክላ ህንፃ 2ተኛ ፎቅ ላይ ያገኙናል 3ቁጥር3 ብስራተ ገብርኤል ላፍቶ ሞል መግቢያው ፊት ለፊት የሚገኘው የብስራተ ገብርኤል ቤተ ክርስቲያን ህንፃ አንደኛ ፎቅ ላይ ደረጃ እንደወጣቹ በስተግራ በኩል ሱቅ ቁጥር FF09 ክቡራን ደምበኞቻችን ገርጂ አልፎዝ ፕላዛ ላይ አራት ኪሎ ቅድስት ስላሴ እንዲሁም ብስራተ ገብሬል ያሉት ሱቆቻችን ሲመጡ አስተማማኝ ሰፊ ፓርኪንግ ያላቸው መሆናቸውን በታላቅ ደስታ እናበስራለን\n",
      "\n",
      "\n",
      "Auto-labeling message ID: 14870\n",
      "Message: ክቡራን ደምበኞቻችን እሁድ ሁሉም ሱቆቻችን 4ኪሎንም ጨምሮ ከጠዋት 4 ሰሀት ጀምሮ ክፍት መሆኑን ስንገልፅ በታላቅ አክብሮት ነው\n",
      "\n",
      "\n",
      "Auto-labeling message ID: 14869\n",
      "Message: ክቡራን ደምበኞቻችን ዛሬ ሁሉም ሱቆቻችን ሙሉ ቀን ክፍት እንደሆኑ ስንገልፅ በታላቅ አክብሮት ነው  የዴሊቨሪ አገልግሎትም እንሰጣለን\n",
      "\n",
      "\n",
      "Auto-labeling message ID: 14868\n",
      "Message: Nido 13 year 18 kg Price 4100 birr 0909003864 0905707448 httpstmesinayelj እቃ ለማዘዝ ከስር ያለውን ሊንኮች በመጫን ማዘዝ ትችላላቹ sinasinaye httpstmesinayelj2 አድራሻ 1ቁጥር1 ገርጂ ኢምፔሪያል ከሳሚ ህንፃ ጎን አልፎዝ ፕላዛ ግራውንድ ላይ እንደገቡ ያገኙናል 2ቁጥር2 4ኪሎ ቅድስት ስላሴ ህንፃ ማለትም ከብልፅግና ዋናፅፈት ቤት ህንፃ በስተ ቀኝ ባለው አስፓልት 20ሜትር ዝቅ እንዳሉ ሀበሻ ኮፊ የሚገኝበት ቀይ ሸክላ ህንፃ 2ተኛ ፎቅ ላይ ያገኙናል ክቡራን ደምበኞቻችን ገርጂ አልፎዝ ፕላዛ ላይ አራት ኪሎ ቅድስት ስላሴ ያሉት ሱቆቻችን ሲመጡ አስተማማኝ ሰፊ ፓርኪንግ ያላቸው መሆናቸውን በታላቅ ደስታ እናበስራለን\n",
      "\n",
      "\n",
      "Auto-labeling message ID: 14867\n",
      "Message: S26 1 ቁጥር 2 ቁጥር 1800g 5000 birr 0909003864 0905707448 እቃ ለማዘዝ ከስር ያለውን ሊንኮች በመጫን ማዘዝ ትችላላቹ sinasinaye sinayalj2 አድራሻ ቁጥር1 ገርጂ ኢምፔሪያል ከሳሚ ህንፃ ጎን አልፎዝ ፕላዛ ግራውንድ ላይ እንደገቡ ያገኙናል ቁጥር2 4ኪሎ ቅድስት ስላሴ ህንፃ ማለትም ከብልፅግና ዋናፅፈት ቤት ህንፃ በስተ ቀኝ ባለው አስፓልት 20ሜትር ዝቅ እንዳሉ ሀበሻ ኮፊ የሚገኝበት ቀይ ሸክላ ህንፃ 2ተኛ ፎቅ ላይ ያገኙናል ክቡራን ደምበኞቻችን ገርጂ አልፎዝ ፕላዛ ላይ እንዲሁም አራት ኪሎ ቅድስት ስላሴ ህንፃ ላይ ያሉት ብራንቾቻችን ላይ እቃ ለመግዛት ሲመጡ አስተማማኝ ሰፊ ፓርኪንግ ያለው ጊቢ ያላቸው ህንፃዎች መሆናቸውን በታላቅ ደስታ እናበስራለን\n",
      "\n",
      "\n",
      "Auto-labeling message ID: 14863\n",
      "Message: Chicco 5 in 1 mama bag ኦሪጅናል ማቴሪያል በሳይዙ ትልቅ 3400 ብር Free delivery 0909003864 0905707448 ሊንኩን በመጫን ቴሌግራማችንን ይቀላቀሉhttpstmesinayelj እቃ ለማዘዝ ከስር ያለውን ሊንኮች በመጫን ማዘዝ ትችላላቹ sinasinaye httpstmesinayelj2 አድራሻ 1ቁጥር1 ገርጂ ኢምፔሪያል ከሳሚ ህንፃ ጎን አልፎዝ ፕላዛ ግራውንድ ላይ እንደገቡ ያገኙናል 2ቁጥር2 4ኪሎ ቅድስት ስላሴ ህንፃ ማለትም ከብልፅግና ዋናፅፈት ቤት ህንፃ በስተ ቀኝ ባለው አስፓልት 20ሜትር ዝቅ እንዳሉ ሀበሻ ኮፊ የሚገኝበት ቀይ ሸክላ ህንፃ 2ተኛ ፎቅ ላይ ያገኙናል 3ቁጥር3 ብስራተ ገብርኤል ላፍቶ ሞል መግቢያው ፊት ለፊት የሚገኘው የብስራተ ገብርኤል ቤተ ክርስቲያን ህንፃ አንደኛ ፎቅ ላይ ደረጃ እንደወጣቹ በስተግራ በኩል ሱቅ ቁጥር FF09 ክቡራን ደምበኞቻችን ገርጂ አልፎዝ ፕላዛ ላይ አራት ኪሎ ቅድስት ስላሴ እንዲሁም ብስራተ ገብሬል ያሉት ሱቆቻችን ሲመጡ አስተማማኝ ሰፊ ፓርኪንግ ያላቸው መሆናቸውን በታላቅ ደስታ እናበስራለን\n",
      "\n",
      "\n",
      "Auto-labeling message ID: 14854\n",
      "Message: Mastela deluxe multifunctional bassinet አልቋል ላልናቹ ደምበኞች በድጋሚ ገብቷል በሶኬት እና በባትሪ የሚሰራ ከግራ ወደቀኝ እየተንቀሳቀሰ ልጆችን እሹሩሩ እያለ የሚያጫውት የሚያስተኛ በሪሞት ኮንትሮል መቆጣጠር የሚቻል የራሱ ሪሞት ያለው የራሱ ሙዚቃዎች ያሉት እንዲሁም በብሉቱዝ ከስልካችን ጋር አገናኝተን የምንፈልገውን ሙዚቃ ማጫዎት እንችላለን ዩ ኤስ ቢ ፍላሽም መቀበል ስለሚችል በፍላሽ የፈለግነውን ሙዚቃ ማጫዎት እንችላለን ስለእቃው የበለጠ ለማየት ከስር ያለውን ቪዲዮ ይመልከቱ ከሌሎቹ እቃዎች ይሄን ለየት የሚያደርገው ደሞ ህፃናት አድገውም እንደ ወንበር ያገለግላቸዋል ስለዚም ለብዙ ጊዜ መጠቀም ያስችላል ዋጋ 16000ብር ሳያልቅቦት ቶሎ በጆ ያስገቡ Free delivery ከስር ያለውን ቪዲዮ ይመልከቱ 0909003864 0905707448 እቃ ለማዘዝ ከስር ያለውን ሊንኮች በመጫን ማዘዝ ትችላላቹ sinasinaye sinayalj2 አድራሻ 1ቁጥር1 ገርጂ ኢምፔሪያል ከሳሚ ህንፃ ጎን አልፎዝ ፕላዛ ግራውንድ ላይ እንደገቡ ያገኙናል 2ቁጥር2 4ኪሎ ቅድስት ስላሴ ህንፃ ማለትም ከብልፅግና ዋናፅፈት ቤት ህንፃ በስተ ቀኝ ባለው አስፓልት 20ሜትር ዝቅ እንዳሉ ሀበሻ ኮፊ የሚገኝበት ቀይ ሸክላ ህንፃ 2ተኛ ፎቅ ላይ ያገኙናል 3ቁጥር3 ብስራተ ገብርኤል ላፍቶ ሞል መግቢያው ፊት ለፊት የሚገኘው የብስራተ ገብርኤል ቤተ ክርስቲያን ህንፃ አንደኛ ፎቅ ላይ ደረጃ እንደወጣቹ በስተግራ በኩል ሱቅ ቁጥር FF09 ክቡራን ደምበኞቻችን ገርጂ አልፎዝ ፕላዛ ላይ አራት ኪሎ ቅድስት ስላሴ እንዲሁም ብስራተ ገብሬል ያሉት ሱቆቻችን ሲመጡ አስተማማኝ ሰፊ ፓርኪንግ ያላቸው መሆናቸውን በታላቅ ደስታ እናበስራለን\n",
      "\n",
      "\n",
      "Auto-labeling message ID: 14846\n",
      "Message: ብዙ አገልግሎቶችን በአንድ የያዘ 5 in 1 ጄሪሎ 1 ውስጡ ገብተው እየተጫወቱ እንዲራመዱ ይረዳቸዋል 2ቅዝቃዜ እግራቸውን እንዳይጎዳቸው የሚወጠር ጨርቅ ስላለው ጨርቁ ተወጥሮ ጨርቁ ላይ መቆም ይችላሉ 3 እንደ ፑሽ ካር እራሳችን እየገፍን እናጫውትበታለን 4 እንደ ዎከር ልጁ ከፍ ብሎ እቃ እየያዘ ለመራመድ በሚጥርበት ጊዜም እየነዳው መራመድ ይችላል 5 መጫዎቻው አሸንጉሊት ተነስቶም እንደ መመገቢያም ወንበርም መሆን ይችላል  የራሱ ጥላ ስላለው ጊቢ ውስጥም መጠቀም ይችላል 8500 ብር Free delivery 0909003864 0905707448 እቃ ለማዘዝ ከስር ያለውን ሊንኮች በመጫን ማዘዝ ትችላላቹ sinasinaye sinayalj2 አድራሻ 1ቁጥር1 ገርጂ ኢምፔሪያል ከሳሚ ህንፃ ጎን አልፎዝ ፕላዛ ግራውንድ ላይ እንደገቡ ያገኙናል 2ቁጥር2 4ኪሎ ቅድስት ስላሴ ህንፃ ማለትም ከብልፅግና ዋናፅፈት ቤት ህንፃ በስተ ቀኝ ባለው አስፓልት 20ሜትር ዝቅ እንዳሉ ሀበሻ ኮፊ የሚገኝበት ቀይ ሸክላ ህንፃ 2ተኛ ፎቅ ላይ ያገኙናል 3ቁጥር3 ብስራተ ገብርኤል ላፍቶ ሞል መግቢያው ፊት ለፊት የሚገኘው የብስራተ ገብርኤል ቤተ ክርስቲያን ህንፃ አንደኛ ፎቅ ላይ ደረጃ እንደወጣቹ በስተግራ በኩል ሱቅ ቁጥር FF09 ክቡራን ደምበኞቻችን ገርጂ አልፎዝ ፕላዛ ላይ አራት ኪሎ ቅድስት ስላሴ እንዲሁም ብስራተ ገብሬል ያሉት ሱቆቻችን ሲመጡ አስተማማኝ ሰፊ ፓርኪንግ ያላቸው መሆናቸውን በታላቅ ደስታ እናበስራለን\n",
      "\n",
      "\n",
      "Auto-labeling message ID: 14845\n",
      "Message: ክቡራን ደምበኞቻችን እሁድ ገርጂ እና ብስራተ ገብሬል የሚገኘው ሱቃችን ከጠዋት 4 ሰሀት ጀምሮ ክፍት መሆኑን ስንገልፅ በታላቅ አክብሮት ነው\n",
      "\n",
      "\n",
      "Auto-labeling message ID: 14844\n",
      "Message: ክቡራን ደምበኞቻችን ዛሬ ሁሉም ሱቆቻችን ሙሉ ቀን ክፍት እንደሆኑ ስንገልፅ በታላቅ አክብሮት ነው  የዴሊቨሪ አገልግሎትም እንሰጣለን\n",
      "\n",
      "\n",
      "Auto-labeling message ID: 14843\n",
      "Message: ለመላው የክርስትና እምነት ተከታዮች በሙሉ እንኳን ለመስቀል ደመራ በዓል በሰላም አደረሳችሁ እያልን፤በዓሉ የሰላምና የጤና እንዲሆንላቹ ምኞታችንን እንገልፃለን SINA KIDSሲና ኪድስ\n",
      "\n",
      "\n",
      "Auto-labeling message ID: 14839\n",
      "Message: ለኮንዶሚኒየም ለጠባብ ቤቶች ገላግሌ የሆነ ከንፁህ የሲልከን ጥሬ እቃ የተሰራ የልጆች ማጠቢያ ምስሉ ላይ እንደሚያዩት መታጠፍ መዘርጋት የሚችል 3350ብር ይደውሉልን እርሶ መምጣት ባይመቾ እኛ ያሉበት ድረስ እናደርስሎታለን ስልክ 0905707448 0909003864 ሲና የተመረጡና ጥራታቸውን የጠበቁ የልጆች እቃ አስመጪ 0909003864 0905707448 እቃ ለማዘዝ ከስር ያለውን ሊንኮች በመጫን ማዘዝ ትችላላቹ sinasinaye sinayalj2 አድራሻ 1ቁጥር1 ገርጂ ኢምፔሪያል ከሳሚ ህንፃ ጎን አልፎዝ ፕላዛ ግራውንድ ላይ እንደገቡ ያገኙናል 2ቁጥር2 4ኪሎ ቅድስት ስላሴ ህንፃ ማለትም ከብልፅግና ዋናፅፈት ቤት ህንፃ በስተ ቀኝ ባለው አስፓልት 20ሜትር ዝቅ እንዳሉ ሀበሻ ኮፊ የሚገኝበት ቀይ ሸክላ ህንፃ 2ተኛ ፎቅ ላይ ያገኙናል 3ቁጥር3 ብስራተ ገብርኤል ላፍቶ ሞል መግቢያው ፊት ለፊት የሚገኘው የብስራተ ገብርኤል ቤተ ክርስቲያን ህንፃ አንደኛ ፎቅ ላይ ደረጃ እንደወጣቹ በስተግራ በኩል ሱቅ ቁጥር FF09 ክቡራን ደምበኞቻችን ገርጂ አልፎዝ ፕላዛ ላይ አራት ኪሎ ቅድስት ስላሴ እንዲሁም ብስራተ ገብሬል ያሉት ሱቆቻችን ሲመጡ አስተማማኝ ሰፊ ፓርኪንግ ያላቸው መሆናቸውን በታላቅ ደስታ እናበስራለን\n",
      "\n",
      "\n",
      "Auto-labeling message ID: 14835\n",
      "Message: Baby romper ከላዩ ፈር ውስጡ ኮተን የሆነ 2000 birr Free delivery 0909003864 0905707448 እቃ ለማዘዝ ከስር ያለውን ሊንኮች በመጫን ማዘዝ ትችላላቹ sinasinaye sinayalj2 አድራሻ 1ቁጥር1 ገርጂ ኢምፔሪያል ከሳሚ ህንፃ ጎን አልፎዝ ፕላዛ ግራውንድ ላይ እንደገቡ ያገኙናል 2ቁጥር2 4ኪሎ ቅድስት ስላሴ ህንፃ ማለትም ከብልፅግና ዋናፅፈት ቤት ህንፃ በስተ ቀኝ ባለው አስፓልት 20ሜትር ዝቅ እንዳሉ ሀበሻ ኮፊ የሚገኝበት ቀይ ሸክላ ህንፃ 2ተኛ ፎቅ ላይ ያገኙናል 3ቁጥር3 ብስራተ ገብርኤል ላፍቶ ሞል መግቢያው ፊት ለፊት የሚገኘው የብስራተ ገብርኤል ቤተ ክርስቲያን ህንፃ አንደኛ ፎቅ ላይ ደረጃ እንደወጣቹ በስተግራ በኩል ሱቅ ቁጥር FF09 ክቡራን ደምበኞቻችን ገርጂ አልፎዝ ፕላዛ ላይ እንዲሁም አራት ኪሎ ቅድስት ስላሴ in ህንፃ ላይ ያሉት ብራንቾቻችን ላይ እቃ ለመግዛት ሲመጡ አስተማማኝ ሰፊ ፓርኪንግ ያለው ጊቢ ያላቸው ህንፃዎች መሆናቸውን በታላቅ ደስታ እናበስራለን\n",
      "\n",
      "\n",
      "Auto-labeling message ID: 14832\n",
      "Message: Chicco 5 in 1 mama bag ኦሪጅናል ማቴሪያል በሳይዙ ትልቅ 3200 ብር Free delivery 0909003864 0905707448 ሊንኩን በመጫን ቴሌግራማችንን ይቀላቀሉhttpstmesinayelj እቃ ለማዘዝ ከስር ያለውን ሊንኮች በመጫን ማዘዝ ትችላላቹ sinasinaye httpstmesinayelj2 አድራሻ 1ቁጥር1 ገርጂ ኢምፔሪያል ከሳሚ ህንፃ ጎን አልፎዝ ፕላዛ ግራውንድ ላይ እንደገቡ ያገኙናል 2ቁጥር2 4ኪሎ ቅድስት ስላሴ ህንፃ ማለትም ከብልፅግና ዋናፅፈት ቤት ህንፃ በስተ ቀኝ ባለው አስፓልት 20ሜትር ዝቅ እንዳሉ ሀበሻ ኮፊ የሚገኝበት ቀይ ሸክላ ህንፃ 2ተኛ ፎቅ ላይ ያገኙናል 3ቁጥር3 ብስራተ ገብርኤል ላፍቶ ሞል መግቢያው ፊት ለፊት የሚገኘው የብስራተ ገብርኤል ቤተ ክርስቲያን ህንፃ አንደኛ ፎቅ ላይ ደረጃ እንደወጣቹ በስተግራ በኩል ሱቅ ቁጥር FF09 ክቡራን ደምበኞቻችን ገርጂ አልፎዝ ፕላዛ ላይ አራት ኪሎ ቅድስት ስላሴ እንዲሁም ብስራተ ገብሬል ያሉት ሱቆቻችን ሲመጡ አስተማማኝ ሰፊ ፓርኪንግ ያላቸው መሆናቸውን በታላቅ ደስታ እናበስራለን\n",
      "\n",
      "\n",
      "Auto-labeling message ID: 14825\n",
      "Message: aiebao HIP SEAT CARRIER ምቹ ጠንካራ የልጆች ማዘያ በተለይ ለወንድ ልጆች ፍሬያቸው እንዳይጎዳ ተደርጎ ዲዛይን የተደረገ 2600 birr 0909003864 0905707448 ሊንኩን በመጫን ቴሌግራማችንን ይቀላቀሉhttpstmesinayelj እቃ ለማዘዝ ከስር ያለውን ሊንኮች በመጫን ማዘዝ ትችላላቹ sinasinaye httpstmesinayelj2 አድራሻ 1ቁጥር1 ገርጂ ኢምፔሪያል ከሳሚ ህንፃ ጎን አልፎዝ ፕላዛ ግራውንድ ላይ እንደገቡ ያገኙናል 2ቁጥር2 4ኪሎ ቅድስት ስላሴ ህንፃ ማለትም ከብልፅግና ዋናፅፈት ቤት ህንፃ በስተ ቀኝ ባለው አስፓልት 20ሜትር ዝቅ እንዳሉ ሀበሻ ኮፊ የሚገኝበት ቀይ ሸክላ ህንፃ 2ተኛ ፎቅ ላይ ያገኙናል 3ቁጥር3 ብስራተ ገብርኤል ላፍቶ ሞል መግቢያው ፊት ለፊት የሚገኘው የብስራተ ገብርኤል ቤተ ክርስቲያን ህንፃ አንደኛ ፎቅ ላይ ደረጃ እንደወጣቹ በስተግራ በኩል ሱቅ ቁጥር FF09 ክቡራን ደምበኞቻችን ገርጂ አልፎዝ ፕላዛ ላይ አራት ኪሎ ቅድስት ስላሴ እንዲሁም ብስራተ ገብሬል ያሉት ሱቆቻችን ሲመጡ አስተማማኝ ሰፊ ፓርኪንግ ያላቸው መሆናቸውን በታላቅ ደስታ እናበስራለን\n",
      "\n",
      "\n",
      "Auto-labeling message ID: 14815\n",
      "Message: Kids mat 4100 ብር Size 1802m free delivery 0909003864 0905707448 እቃ ለማዘዝ ከስር ያለውን ሊንኮች በመጫን ማዘዝ ትችላላቹ sinasinaye sinayalj2 አድራሻ 1ቁጥር1 ገርጂ ኢምፔሪያል ከሳሚ ህንፃ ጎን አልፎዝ ፕላዛ ግራውንድ ላይ እንደገቡ ያገኙናል 2ቁጥር2 4ኪሎ ቅድስት ስላሴ ህንፃ ማለትም ከብልፅግና ዋናፅፈት ቤት ህንፃ በስተ ቀኝ ባለው አስፓልት 20ሜትር ዝቅ እንዳሉ ሀበሻ ኮፊ የሚገኝበት ቀይ ሸክላ ህንፃ 2ተኛ ፎቅ ላይ ያገኙናል 3ቁጥር3 ብስራተ ገብርኤል ላፍቶ ሞል መግቢያው ፊት ለፊት የሚገኘው የብስራተ ገብርኤል ቤተ ክርስቲያን ህንፃ አንደኛ ፎቅ ላይ ደረጃ እንደወጣቹ በስተግራ በኩል ሱቅ ቁጥር FF09 ክቡራን ደምበኞቻችን ገርጂ አልፎዝ ፕላዛ ላይ አራት ኪሎ ቅድስት ስላሴ እንዲሁም ብስራተ ገብሬል ያሉት ሱቆቻችን ሲመጡ አስተማማኝ ሰፊ ፓርኪንግ ያላቸው መሆናቸውን በታላቅ ደስታ እናበስራለን\n",
      "\n",
      "\n",
      "Auto-labeling message ID: 14810\n",
      "Message: Wearable breast milk collector Wearable breast milk collector ከጡት የሚንጠባጠብ ወተትን ማጠራቀሚያ በቀላሉ ጡት መያዚያ ስር ማድረግ የሚቻል ምቹ እያጠብን ምንጠቀምበት 750 ብር 0909003864 0905707448 ሊንኩን በመጫን ቴሌግራማችንን ይቀላቀሉhttpstmesinayelj እቃ ለማዘዝ ከስር ያለውን ሊንኮች በመጫን ማዘዝ ትችላላቹ sinasinaye httpstmesinayelj2 አድራሻ 1ቁጥር1 ገርጂ ኢምፔሪያል ከሳሚ ህንፃ ጎን አልፎዝ ፕላዛ ግራውንድ ላይ እንደገቡ ያገኙናል 2ቁጥር2 4ኪሎ ቅድስት ስላሴ ህንፃ ማለትም ከብልፅግና ዋናፅፈት ቤት ህንፃ በስተ ቀኝ ባለው አስፓልት 20ሜትር ዝቅ እንዳሉ ሀበሻ ኮፊ የሚገኝበት ቀይ ሸክላ ህንፃ 2ተኛ ፎቅ ላይ ያገኙናል 3ቁጥር3 ብስራተ ገብርኤል ላፍቶ ሞል መግቢያው ፊት ለፊት የሚገኘው የብስራተ ገብርኤል ቤተ ክርስቲያን ህንፃ አንደኛ ፎቅ ላይ ደረጃ እንደወጣቹ በስተግራ በኩል ሱቅ ቁጥር FF09 ክቡራን ደምበኞቻችን ገርጂ አልፎዝ ፕላዛ ላይ አራት ኪሎ ቅድስት ስላሴ እንዲሁም ብስራተ ገብሬል ያሉት ሱቆቻችን ሲመጡ አስተማማኝ ሰፊ ፓርኪንግ ያላቸው መሆናቸውን በታላቅ ደስታ እናበስራለን\n",
      "\n",
      "\n",
      "Auto-labeling message ID: 14809\n",
      "Message: ክቡራን ደምበኞቻችን እሁድ ገርጂ እና ብስራተ ገብሬል የሚገኘው ሱቃችን ከጠዋት 4 ሰሀት ጀምሮ ክፍት መሆኑን ስንገልፅ በታላቅ አክብሮት ነው\n",
      "\n",
      "\n",
      "Auto-labeling message ID: 14805\n",
      "Message: Double layer lunch box with dipping jar 1250 birr 0909003864 0905707448 ሊንኩን በመጫን ቴሌግራማችንን ይቀላቀሉhttpstmesinayelj እቃ ለማዘዝ ከስር ያለውን ሊንኮች በመጫን ማዘዝ ትችላላቹ sinasinaye httpstmesinayelj2 አድራሻ 1ቁጥር1 ገርጂ ኢምፔሪያል ከሳሚ ህንፃ ጎን አልፎዝ ፕላዛ ግራውንድ ላይ እንደገቡ ያገኙናል 2ቁጥር2 4ኪሎ ቅድስት ስላሴ ህንፃ ማለትም ከብልፅግና ዋናፅፈት ቤት ህንፃ በስተ ቀኝ ባለው አስፓልት 20ሜትር ዝቅ እንዳሉ ሀበሻ ኮፊ የሚገኝበት ቀይ ሸክላ ህንፃ 2ተኛ ፎቅ ላይ ያገኙናል 3ቁጥር3 ብስራተ ገብርኤል ላፍቶ ሞል መግቢያው ፊት ለፊት የሚገኘው የብስራተ ገብርኤል ቤተ ክርስቲያን ህንፃ አንደኛ ፎቅ ላይ ደረጃ እንደወጣቹ በስተግራ በኩል ሱቅ ቁጥር FF09 ክቡራን ደምበኞቻችን ገርጂ አልፎዝ ፕላዛ ላይ አራት ኪሎ ቅድስት ስላሴ እንዲሁም ብስራተ ገብሬል ያሉት ሱቆቻችን ሲመጡ አስተማማኝ ሰፊ ፓርኪንግ ያላቸው መሆናቸውን በታላቅ ደስታ እናበስራለን\n",
      "\n",
      "\n",
      "Auto-labeling message ID: 14802\n",
      "Message: 50 pcs balls 1700 birr 0909003864 0905707448 ሊንኩን በመጫን ቴሌግራማችንን ይቀላቀሉhttpstmesinayelj እቃ ለማዘዝ ከስር ያለውን ሊንኮች በመጫን ማዘዝ ትችላላቹ sinasinaye httpstmesinayelj2 አድራሻ 1ቁጥር1 ገርጂ ኢምፔሪያል ከሳሚ ህንፃ ጎን አልፎዝ ፕላዛ ግራውንድ ላይ እንደገቡ ያገኙናል 2ቁጥር2 4ኪሎ ቅድስት ስላሴ ህንፃ ማለትም ከብልፅግና ዋናፅፈት ቤት ህንፃ በስተ ቀኝ ባለው አስፓልት 20ሜትር ዝቅ እንዳሉ ሀበሻ ኮፊ የሚገኝበት ቀይ ሸክላ ህንፃ 2ተኛ ፎቅ ላይ ያገኙናል 3ቁጥር3 ብስራተ ገብርኤል ላፍቶ ሞል መግቢያው ፊት ለፊት የሚገኘው የብስራተ ገብርኤል ቤተ ክርስቲያን ህንፃ አንደኛ ፎቅ ላይ ደረጃ እንደወጣቹ በስተግራ በኩል ሱቅ ቁጥር FF09 ክቡራን ደምበኞቻችን ገርጂ አልፎዝ ፕላዛ ላይ አራት ኪሎ ቅድስት ስላሴ እንዲሁም ብስራተ ገብሬል ያሉት ሱቆቻችን ሲመጡ አስተማማኝ ሰፊ ፓርኪንግ ያላቸው መሆናቸውን በታላቅ ደስታ እናበስራለን\n",
      "\n"
     ]
    }
   ],
   "source": [
    "# Automate the labeling for the subset of 50 messages\n",
    "labeled_data = label_subset_automatically(subset_df)"
   ]
  },
  {
   "cell_type": "code",
   "execution_count": 14,
   "metadata": {},
   "outputs": [
    {
     "name": "stdout",
     "output_type": "stream",
     "text": [
      "Labeled data saved to ../data/labeled/automated_labeled_data.conll\n"
     ]
    }
   ],
   "source": [
    "# Save the labeled data to a file\n",
    "output_path = '../data/labeled/automated_labeled_data.conll'\n",
    "save_conll_format(labeled_data, output_path)"
   ]
  }
 ],
 "metadata": {
  "kernelspec": {
   "display_name": ".venv",
   "language": "python",
   "name": "python3"
  },
  "language_info": {
   "codemirror_mode": {
    "name": "ipython",
    "version": 3
   },
   "file_extension": ".py",
   "mimetype": "text/x-python",
   "name": "python",
   "nbconvert_exporter": "python",
   "pygments_lexer": "ipython3",
   "version": "3.11.9"
  }
 },
 "nbformat": 4,
 "nbformat_minor": 2
}
